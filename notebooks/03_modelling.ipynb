{
 "cells": [
  {
   "cell_type": "code",
   "execution_count": 1,
   "metadata": {},
   "outputs": [
    {
     "name": "stdout",
     "output_type": "stream",
     "text": [
      "0                                               click bait\n",
      "1                            platinum user no like profile\n",
      "2        appreciate guy blatantly disrespect unprofessi...\n",
      "3        account review question swipe leave dozen bot ...\n",
      "4                                             cool not pay\n",
      "                               ...                        \n",
      "49995                                       good bad bunch\n",
      "49996                                        well date app\n",
      "49997                                                 good\n",
      "49998    barrel term push microtransaction invite tinde...\n",
      "49999    keep get ban not wrong say ban tinder price no...\n",
      "Name: clean_content, Length: 50000, dtype: object\n"
     ]
    }
   ],
   "source": [
    "# Cell X: Create clean_content if not present\n",
    "import spacy\n",
    "import pandas as pd\n",
    "import re\n",
    "\n",
    "df = pd.read_csv('../data/tinder_reviews_randomized.csv')\n",
    "\n",
    "# Load spaCy English model (download if needed: python -m spacy download en_core_web_sm)\n",
    "nlp = spacy.load(\"en_core_web_sm\", disable=[\"ner\", \"parser\"])\n",
    "\n",
    "def clean_and_lemmatize(text):\n",
    "    text = str(text).lower()\n",
    "    text = re.sub(r'http\\S+|www\\.\\S+', '', text)\n",
    "    text = re.sub(r'<.*?>', '', text)\n",
    "    text = text.replace('!', ' _EXCLAMATION_ ').replace('?', ' _QUESTION_ ')\n",
    "    text = re.sub(r'[^a-zA-Z0-9_\\s]', '', text)\n",
    "    doc = nlp(text)\n",
    "    negations = {\"no\", \"not\", \"nor\", \"never\"}\n",
    "    tokens = [\n",
    "        token.lemma_ for token in doc\n",
    "        if (token.is_alpha or token.text in [\"_EXCLAMATION_\", \"_QUESTION_\"])\n",
    "        and (token.text not in nlp.Defaults.stop_words or token.text in negations)\n",
    "    ]\n",
    "    return ' '.join(tokens)\n",
    "\n",
    "df['clean_content'] = df['content'].astype(str).apply(clean_and_lemmatize)\n",
    "print(df['clean_content'])"
   ]
  },
  {
   "cell_type": "code",
   "execution_count": 2,
   "metadata": {},
   "outputs": [],
   "source": [
    "# Cell 1: Imports and Data Loading\n",
    "import pandas as pd\n",
    "import numpy as np\n",
    "from sklearn.model_selection import train_test_split\n",
    "\n",
    "# If not already present, create clean_content using your cleaning pipeline from EDA\n",
    "# If already present, skip this step\n",
    "\n",
    "# Cell 2: Label Creation (binary: 1=positive, 0=negative, drop neutral)\n",
    "def label_sentiment(row):\n",
    "    if row['score'] >= 4:\n",
    "        return 1\n",
    "    elif row['score'] <= 2:\n",
    "        return 0\n",
    "    else:\n",
    "        return np.nan  # Neutral\n",
    "\n",
    "df['sentiment'] = df.apply(label_sentiment, axis=1)\n",
    "df = df.dropna(subset=['sentiment', 'clean_content'])\n",
    "\n",
    "# Cell 3: Train/Test Split (stratified)\n",
    "X = df['clean_content'].values\n",
    "y = df['sentiment'].values.astype(int)\n",
    "X_train, X_test, y_train, y_test = train_test_split(\n",
    "    X, y, test_size=0.3, random_state=42, stratify=y\n",
    ")"
   ]
  },
  {
   "cell_type": "code",
   "execution_count": 3,
   "metadata": {},
   "outputs": [
    {
     "name": "stdout",
     "output_type": "stream",
     "text": [
      "Index(['reviewId', 'userName', 'userImage', 'content', 'score',\n",
      "       'thumbsUpCount', 'reviewCreatedVersion', 'at', 'replyContent',\n",
      "       'repliedAt', 'appVersion', 'star', 'clean_content', 'sentiment'],\n",
      "      dtype='object')\n"
     ]
    }
   ],
   "source": [
    "print(df.columns)"
   ]
  },
  {
   "cell_type": "code",
   "execution_count": 5,
   "metadata": {},
   "outputs": [
    {
     "name": "stderr",
     "output_type": "stream",
     "text": [
      "[nltk_data] Downloading package vader_lexicon to\n",
      "[nltk_data]     /home/akshathm/nltk_data...\n",
      "[nltk_data]   Package vader_lexicon is already up-to-date!\n"
     ]
    },
    {
     "name": "stdout",
     "output_type": "stream",
     "text": [
      "VADER Results:\n",
      "Accuracy: 0.7544166666666666\n",
      "Precision: 0.7372183372183372\n",
      "Recall: 0.7906666666666666\n",
      "F1: 0.7630076397265783\n",
      "Confusion Matrix:\n",
      " [[4309 1691]\n",
      " [1256 4744]]\n",
      "              precision    recall  f1-score   support\n",
      "\n",
      "           0       0.77      0.72      0.75      6000\n",
      "           1       0.74      0.79      0.76      6000\n",
      "\n",
      "    accuracy                           0.75     12000\n",
      "   macro avg       0.76      0.75      0.75     12000\n",
      "weighted avg       0.76      0.75      0.75     12000\n",
      "\n"
     ]
    }
   ],
   "source": [
    "# Cell 4: VADER Sentiment Analysis\n",
    "from nltk.sentiment import SentimentIntensityAnalyzer\n",
    "import nltk\n",
    "nltk.download('vader_lexicon')\n",
    "\n",
    "sia = SentimentIntensityAnalyzer()\n",
    "\n",
    "def vader_predict(text):\n",
    "    score = sia.polarity_scores(text)['compound']\n",
    "    return 1 if score >= 0.05 else 0\n",
    "\n",
    "y_pred_vader = [vader_predict(text) for text in X_test]\n",
    "\n",
    "# Cell 5: Evaluation for VADER\n",
    "from sklearn.metrics import accuracy_score, precision_score, recall_score, f1_score, confusion_matrix, classification_report\n",
    "\n",
    "print(\"VADER Results:\")\n",
    "print(\"Accuracy:\", accuracy_score(y_test, y_pred_vader))\n",
    "print(\"Precision:\", precision_score(y_test, y_pred_vader))\n",
    "print(\"Recall:\", recall_score(y_test, y_pred_vader))\n",
    "print(\"F1:\", f1_score(y_test, y_pred_vader))\n",
    "print(\"Confusion Matrix:\\n\", confusion_matrix(y_test, y_pred_vader))\n",
    "print(classification_report(y_test, y_pred_vader))"
   ]
  },
  {
   "cell_type": "code",
   "execution_count": 6,
   "metadata": {},
   "outputs": [
    {
     "name": "stdout",
     "output_type": "stream",
     "text": [
      "Logistic Regression Results:\n",
      "Accuracy: 0.8715833333333334\n",
      "Precision: 0.8822218412480713\n",
      "Recall: 0.8576666666666667\n",
      "F1: 0.8697709794642102\n",
      "Confusion Matrix:\n",
      " [[5313  687]\n",
      " [ 854 5146]]\n",
      "              precision    recall  f1-score   support\n",
      "\n",
      "           0       0.86      0.89      0.87      6000\n",
      "           1       0.88      0.86      0.87      6000\n",
      "\n",
      "    accuracy                           0.87     12000\n",
      "   macro avg       0.87      0.87      0.87     12000\n",
      "weighted avg       0.87      0.87      0.87     12000\n",
      "\n"
     ]
    }
   ],
   "source": [
    "# Cell 6: TF-IDF + Logistic Regression\n",
    "from sklearn.feature_extraction.text import TfidfVectorizer\n",
    "from sklearn.linear_model import LogisticRegression\n",
    "\n",
    "tfidf = TfidfVectorizer(ngram_range=(1,2), max_features=20000)\n",
    "X_train_tfidf = tfidf.fit_transform(X_train)\n",
    "X_test_tfidf = tfidf.transform(X_test)\n",
    "\n",
    "clf = LogisticRegression(max_iter=200, random_state=42)\n",
    "clf.fit(X_train_tfidf, y_train)\n",
    "y_pred_lr = clf.predict(X_test_tfidf)\n",
    "\n",
    "# Cell 7: Evaluation for Logistic Regression\n",
    "print(\"Logistic Regression Results:\")\n",
    "print(\"Accuracy:\", accuracy_score(y_test, y_pred_lr))\n",
    "print(\"Precision:\", precision_score(y_test, y_pred_lr))\n",
    "print(\"Recall:\", recall_score(y_test, y_pred_lr))\n",
    "print(\"F1:\", f1_score(y_test, y_pred_lr))\n",
    "print(\"Confusion Matrix:\\n\", confusion_matrix(y_test, y_pred_lr))\n",
    "print(classification_report(y_test, y_pred_lr))"
   ]
  },
  {
   "cell_type": "code",
   "execution_count": 11,
   "metadata": {},
   "outputs": [
    {
     "data": {
      "text/plain": [
       "['../models/tfidf_vectorizer.pkl']"
      ]
     },
     "execution_count": 11,
     "metadata": {},
     "output_type": "execute_result"
    }
   ],
   "source": [
    "import os\n",
    "os.makedirs('../models', exist_ok=True)\n",
    "import joblib\n",
    "joblib.dump(clf, \"../models/logreg_model.pkl\")\n",
    "joblib.dump(tfidf, \"../models/tfidf_vectorizer.pkl\")"
   ]
  },
  {
   "cell_type": "code",
   "execution_count": 12,
   "metadata": {},
   "outputs": [
    {
     "name": "stdout",
     "output_type": "stream",
     "text": [
      "Requirement already satisfied: transformers[torch] in /home/akshathm/work/kupids-classifier/.venv/lib/python3.11/site-packages (4.53.2)\n",
      "Requirement already satisfied: filelock in /home/akshathm/work/kupids-classifier/.venv/lib/python3.11/site-packages (from transformers[torch]) (3.18.0)\n",
      "Requirement already satisfied: huggingface-hub<1.0,>=0.30.0 in /home/akshathm/work/kupids-classifier/.venv/lib/python3.11/site-packages (from transformers[torch]) (0.33.4)\n",
      "Requirement already satisfied: numpy>=1.17 in /home/akshathm/work/kupids-classifier/.venv/lib/python3.11/site-packages (from transformers[torch]) (2.3.1)\n",
      "Requirement already satisfied: packaging>=20.0 in /home/akshathm/work/kupids-classifier/.venv/lib/python3.11/site-packages (from transformers[torch]) (25.0)\n",
      "Requirement already satisfied: pyyaml>=5.1 in /home/akshathm/work/kupids-classifier/.venv/lib/python3.11/site-packages (from transformers[torch]) (6.0.2)\n",
      "Requirement already satisfied: regex!=2019.12.17 in /home/akshathm/work/kupids-classifier/.venv/lib/python3.11/site-packages (from transformers[torch]) (2024.11.6)\n",
      "Requirement already satisfied: requests in /home/akshathm/work/kupids-classifier/.venv/lib/python3.11/site-packages (from transformers[torch]) (2.32.4)\n",
      "Requirement already satisfied: tokenizers<0.22,>=0.21 in /home/akshathm/work/kupids-classifier/.venv/lib/python3.11/site-packages (from transformers[torch]) (0.21.2)\n",
      "Requirement already satisfied: safetensors>=0.4.3 in /home/akshathm/work/kupids-classifier/.venv/lib/python3.11/site-packages (from transformers[torch]) (0.5.3)\n",
      "Requirement already satisfied: tqdm>=4.27 in /home/akshathm/work/kupids-classifier/.venv/lib/python3.11/site-packages (from transformers[torch]) (4.67.1)\n",
      "Requirement already satisfied: torch>=2.1 in /home/akshathm/work/kupids-classifier/.venv/lib/python3.11/site-packages (from transformers[torch]) (2.7.1)\n",
      "Requirement already satisfied: accelerate>=0.26.0 in /home/akshathm/work/kupids-classifier/.venv/lib/python3.11/site-packages (from transformers[torch]) (1.9.0)\n",
      "Requirement already satisfied: fsspec>=2023.5.0 in /home/akshathm/work/kupids-classifier/.venv/lib/python3.11/site-packages (from huggingface-hub<1.0,>=0.30.0->transformers[torch]) (2025.7.0)\n",
      "Requirement already satisfied: typing-extensions>=3.7.4.3 in /home/akshathm/work/kupids-classifier/.venv/lib/python3.11/site-packages (from huggingface-hub<1.0,>=0.30.0->transformers[torch]) (4.14.1)\n",
      "Requirement already satisfied: hf-xet<2.0.0,>=1.1.2 in /home/akshathm/work/kupids-classifier/.venv/lib/python3.11/site-packages (from huggingface-hub<1.0,>=0.30.0->transformers[torch]) (1.1.5)\n",
      "Requirement already satisfied: psutil in /home/akshathm/work/kupids-classifier/.venv/lib/python3.11/site-packages (from accelerate>=0.26.0->transformers[torch]) (7.0.0)\n",
      "Requirement already satisfied: sympy>=1.13.3 in /home/akshathm/work/kupids-classifier/.venv/lib/python3.11/site-packages (from torch>=2.1->transformers[torch]) (1.14.0)\n",
      "Requirement already satisfied: networkx in /home/akshathm/work/kupids-classifier/.venv/lib/python3.11/site-packages (from torch>=2.1->transformers[torch]) (3.5)\n",
      "Requirement already satisfied: jinja2 in /home/akshathm/work/kupids-classifier/.venv/lib/python3.11/site-packages (from torch>=2.1->transformers[torch]) (3.1.6)\n",
      "Requirement already satisfied: nvidia-cuda-nvrtc-cu12==12.6.77 in /home/akshathm/work/kupids-classifier/.venv/lib/python3.11/site-packages (from torch>=2.1->transformers[torch]) (12.6.77)\n",
      "Requirement already satisfied: nvidia-cuda-runtime-cu12==12.6.77 in /home/akshathm/work/kupids-classifier/.venv/lib/python3.11/site-packages (from torch>=2.1->transformers[torch]) (12.6.77)\n",
      "Requirement already satisfied: nvidia-cuda-cupti-cu12==12.6.80 in /home/akshathm/work/kupids-classifier/.venv/lib/python3.11/site-packages (from torch>=2.1->transformers[torch]) (12.6.80)\n",
      "Requirement already satisfied: nvidia-cudnn-cu12==9.5.1.17 in /home/akshathm/work/kupids-classifier/.venv/lib/python3.11/site-packages (from torch>=2.1->transformers[torch]) (9.5.1.17)\n",
      "Requirement already satisfied: nvidia-cublas-cu12==12.6.4.1 in /home/akshathm/work/kupids-classifier/.venv/lib/python3.11/site-packages (from torch>=2.1->transformers[torch]) (12.6.4.1)\n",
      "Requirement already satisfied: nvidia-cufft-cu12==11.3.0.4 in /home/akshathm/work/kupids-classifier/.venv/lib/python3.11/site-packages (from torch>=2.1->transformers[torch]) (11.3.0.4)\n",
      "Requirement already satisfied: nvidia-curand-cu12==10.3.7.77 in /home/akshathm/work/kupids-classifier/.venv/lib/python3.11/site-packages (from torch>=2.1->transformers[torch]) (10.3.7.77)\n",
      "Requirement already satisfied: nvidia-cusolver-cu12==11.7.1.2 in /home/akshathm/work/kupids-classifier/.venv/lib/python3.11/site-packages (from torch>=2.1->transformers[torch]) (11.7.1.2)\n",
      "Requirement already satisfied: nvidia-cusparse-cu12==12.5.4.2 in /home/akshathm/work/kupids-classifier/.venv/lib/python3.11/site-packages (from torch>=2.1->transformers[torch]) (12.5.4.2)\n",
      "Requirement already satisfied: nvidia-cusparselt-cu12==0.6.3 in /home/akshathm/work/kupids-classifier/.venv/lib/python3.11/site-packages (from torch>=2.1->transformers[torch]) (0.6.3)\n",
      "Requirement already satisfied: nvidia-nccl-cu12==2.26.2 in /home/akshathm/work/kupids-classifier/.venv/lib/python3.11/site-packages (from torch>=2.1->transformers[torch]) (2.26.2)\n",
      "Requirement already satisfied: nvidia-nvtx-cu12==12.6.77 in /home/akshathm/work/kupids-classifier/.venv/lib/python3.11/site-packages (from torch>=2.1->transformers[torch]) (12.6.77)\n",
      "Requirement already satisfied: nvidia-nvjitlink-cu12==12.6.85 in /home/akshathm/work/kupids-classifier/.venv/lib/python3.11/site-packages (from torch>=2.1->transformers[torch]) (12.6.85)\n",
      "Requirement already satisfied: nvidia-cufile-cu12==1.11.1.6 in /home/akshathm/work/kupids-classifier/.venv/lib/python3.11/site-packages (from torch>=2.1->transformers[torch]) (1.11.1.6)\n",
      "Requirement already satisfied: triton==3.3.1 in /home/akshathm/work/kupids-classifier/.venv/lib/python3.11/site-packages (from torch>=2.1->transformers[torch]) (3.3.1)\n",
      "Requirement already satisfied: setuptools>=40.8.0 in /home/akshathm/work/kupids-classifier/.venv/lib/python3.11/site-packages (from triton==3.3.1->torch>=2.1->transformers[torch]) (80.9.0)\n",
      "Requirement already satisfied: mpmath<1.4,>=1.1.0 in /home/akshathm/work/kupids-classifier/.venv/lib/python3.11/site-packages (from sympy>=1.13.3->torch>=2.1->transformers[torch]) (1.3.0)\n",
      "Requirement already satisfied: MarkupSafe>=2.0 in /home/akshathm/work/kupids-classifier/.venv/lib/python3.11/site-packages (from jinja2->torch>=2.1->transformers[torch]) (3.0.2)\n",
      "Requirement already satisfied: charset_normalizer<4,>=2 in /home/akshathm/work/kupids-classifier/.venv/lib/python3.11/site-packages (from requests->transformers[torch]) (3.4.2)\n",
      "Requirement already satisfied: idna<4,>=2.5 in /home/akshathm/work/kupids-classifier/.venv/lib/python3.11/site-packages (from requests->transformers[torch]) (3.10)\n",
      "Requirement already satisfied: urllib3<3,>=1.21.1 in /home/akshathm/work/kupids-classifier/.venv/lib/python3.11/site-packages (from requests->transformers[torch]) (2.5.0)\n",
      "Requirement already satisfied: certifi>=2017.4.17 in /home/akshathm/work/kupids-classifier/.venv/lib/python3.11/site-packages (from requests->transformers[torch]) (2025.7.14)\n"
     ]
    }
   ],
   "source": [
    "!pip install \"transformers[torch]\""
   ]
  },
  {
   "cell_type": "code",
   "execution_count": 13,
   "metadata": {},
   "outputs": [
    {
     "data": {
      "application/vnd.jupyter.widget-view+json": {
       "model_id": "c2269d302bda49f3851c1ec66506305d",
       "version_major": 2,
       "version_minor": 0
      },
      "text/plain": [
       "Map:   0%|          | 0/28000 [00:00<?, ? examples/s]"
      ]
     },
     "metadata": {},
     "output_type": "display_data"
    },
    {
     "data": {
      "application/vnd.jupyter.widget-view+json": {
       "model_id": "e66cabb151ee4aed8eb6ddd8017e74eb",
       "version_major": 2,
       "version_minor": 0
      },
      "text/plain": [
       "Map:   0%|          | 0/12000 [00:00<?, ? examples/s]"
      ]
     },
     "metadata": {},
     "output_type": "display_data"
    },
    {
     "name": "stderr",
     "output_type": "stream",
     "text": [
      "Some weights of DistilBertForSequenceClassification were not initialized from the model checkpoint at distilbert-base-uncased and are newly initialized: ['classifier.bias', 'classifier.weight', 'pre_classifier.bias', 'pre_classifier.weight']\n",
      "You should probably TRAIN this model on a down-stream task to be able to use it for predictions and inference.\n"
     ]
    },
    {
     "data": {
      "text/html": [
       "\n",
       "    <div>\n",
       "      \n",
       "      <progress value='3500' max='3500' style='width:300px; height:20px; vertical-align: middle;'></progress>\n",
       "      [3500/3500 2:21:24, Epoch 2/2]\n",
       "    </div>\n",
       "    <table border=\"1\" class=\"dataframe\">\n",
       "  <thead>\n",
       " <tr style=\"text-align: left;\">\n",
       "      <th>Epoch</th>\n",
       "      <th>Training Loss</th>\n",
       "      <th>Validation Loss</th>\n",
       "      <th>Accuracy</th>\n",
       "      <th>F1</th>\n",
       "    </tr>\n",
       "  </thead>\n",
       "  <tbody>\n",
       "    <tr>\n",
       "      <td>1</td>\n",
       "      <td>0.321100</td>\n",
       "      <td>0.314527</td>\n",
       "      <td>0.881750</td>\n",
       "      <td>0.880243</td>\n",
       "    </tr>\n",
       "    <tr>\n",
       "      <td>2</td>\n",
       "      <td>0.287300</td>\n",
       "      <td>0.323263</td>\n",
       "      <td>0.881917</td>\n",
       "      <td>0.882514</td>\n",
       "    </tr>\n",
       "  </tbody>\n",
       "</table><p>"
      ],
      "text/plain": [
       "<IPython.core.display.HTML object>"
      ]
     },
     "metadata": {},
     "output_type": "display_data"
    },
    {
     "data": {
      "text/html": [
       "\n",
       "    <div>\n",
       "      \n",
       "      <progress value='375' max='375' style='width:300px; height:20px; vertical-align: middle;'></progress>\n",
       "      [375/375 08:33]\n",
       "    </div>\n",
       "    "
      ],
      "text/plain": [
       "<IPython.core.display.HTML object>"
      ]
     },
     "metadata": {},
     "output_type": "display_data"
    },
    {
     "name": "stdout",
     "output_type": "stream",
     "text": [
      "Transformer Results (distilbert-base-uncased):\n",
      "{'eval_loss': 0.3232633173465729, 'eval_accuracy': 0.8819166666666667, 'eval_f1': 0.8825138877373352, 'eval_runtime': 515.3488, 'eval_samples_per_second': 23.285, 'eval_steps_per_second': 0.728, 'epoch': 2.0}\n"
     ]
    }
   ],
   "source": [
    "# Cell 8: HuggingFace Transformers Setup\n",
    "import torch\n",
    "from transformers import AutoTokenizer, AutoModelForSequenceClassification, Trainer, TrainingArguments\n",
    "from datasets import Dataset\n",
    "\n",
    "# Choose model: 'distilbert-base-uncased' or 'microsoft/deberta-v3-small'\n",
    "MODEL_NAME = 'distilbert-base-uncased'\n",
    "tokenizer = AutoTokenizer.from_pretrained(MODEL_NAME)\n",
    "\n",
    "def tokenize_function(examples):\n",
    "    return tokenizer(examples['text'], padding='max_length', truncation=True, max_length=128)\n",
    "\n",
    "# Prepare HuggingFace Dataset\n",
    "train_dataset = Dataset.from_dict({'text': X_train, 'label': y_train})\n",
    "test_dataset = Dataset.from_dict({'text': X_test, 'label': y_test})\n",
    "\n",
    "train_dataset = train_dataset.map(tokenize_function, batched=True)\n",
    "test_dataset = test_dataset.map(tokenize_function, batched=True)\n",
    "\n",
    "train_dataset.set_format(type='torch', columns=['input_ids', 'attention_mask', 'label'])\n",
    "test_dataset.set_format(type='torch', columns=['input_ids', 'attention_mask', 'label'])\n",
    "\n",
    "# Cell 9: Model Training\n",
    "model = AutoModelForSequenceClassification.from_pretrained(MODEL_NAME, num_labels=2)\n",
    "\n",
    "training_args = TrainingArguments(\n",
    "    output_dir='./results',\n",
    "    num_train_epochs=2,\n",
    "    per_device_train_batch_size=16,\n",
    "    per_device_eval_batch_size=32,\n",
    "    eval_strategy=\"epoch\",\n",
    "    save_strategy=\"epoch\",\n",
    "    logging_dir='./logs',\n",
    "    learning_rate=2e-5,\n",
    "    load_best_model_at_end=True,\n",
    "    metric_for_best_model=\"eval_f1\",\n",
    "    report_to=\"none\",\n",
    "    fp16=True,  # Use mixed precision if GPU supports it\n",
    ")\n",
    "\n",
    "from sklearn.metrics import f1_score\n",
    "\n",
    "def compute_metrics(eval_pred):\n",
    "    logits, labels = eval_pred\n",
    "    preds = logits.argmax(axis=-1)\n",
    "    return {\n",
    "        'accuracy': (preds == labels).mean(),\n",
    "        'f1': f1_score(labels, preds),\n",
    "    }\n",
    "\n",
    "trainer = Trainer(\n",
    "    model=model,\n",
    "    args=training_args,\n",
    "    train_dataset=train_dataset,\n",
    "    eval_dataset=test_dataset,\n",
    "    compute_metrics=compute_metrics,\n",
    ")\n",
    "\n",
    "trainer.train()\n",
    "\n",
    "# Cell 10: Evaluation for Transformer\n",
    "results = trainer.evaluate()\n",
    "print(\"Transformer Results ({}):\".format(MODEL_NAME))\n",
    "print(results)"
   ]
  },
  {
   "cell_type": "code",
   "execution_count": 15,
   "metadata": {},
   "outputs": [
    {
     "name": "stdout",
     "output_type": "stream",
     "text": [
      "                 Model  Accuracy        F1\n",
      "0                VADER  0.754417  0.763008\n",
      "1  Logistic Regression  0.871583  0.869771\n",
      "2     DeBERTa-v3-small  0.881917  0.882514\n"
     ]
    }
   ],
   "source": [
    "# Cell 11: Model Comparison Table\n",
    "import pandas as pd\n",
    "\n",
    "results_dict = {\n",
    "    'Model': ['VADER', 'Logistic Regression', 'DeBERTa-v3-small'],\n",
    "    'Accuracy': [\n",
    "        accuracy_score(y_test, y_pred_vader),\n",
    "        accuracy_score(y_test, y_pred_lr),\n",
    "        results['eval_accuracy']\n",
    "    ],\n",
    "    'F1': [\n",
    "        f1_score(y_test, y_pred_vader),\n",
    "        f1_score(y_test, y_pred_lr),\n",
    "        results['eval_f1']\n",
    "    ]\n",
    "}\n",
    "\n",
    "results_df = pd.DataFrame(results_dict)\n",
    "print(results_df)"
   ]
  }
 ],
 "metadata": {
  "kernelspec": {
   "display_name": ".venv",
   "language": "python",
   "name": "python3"
  },
  "language_info": {
   "codemirror_mode": {
    "name": "ipython",
    "version": 3
   },
   "file_extension": ".py",
   "mimetype": "text/x-python",
   "name": "python",
   "nbconvert_exporter": "python",
   "pygments_lexer": "ipython3",
   "version": "3.11.13"
  }
 },
 "nbformat": 4,
 "nbformat_minor": 2
}
