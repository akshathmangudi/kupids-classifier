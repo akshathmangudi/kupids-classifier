{
 "cells": [
  {
   "cell_type": "code",
   "execution_count": 4,
   "metadata": {},
   "outputs": [
    {
     "name": "stdout",
     "output_type": "stream",
     "text": [
      "0                                               click bait\n",
      "1                            platinum user no like profile\n",
      "2        appreciate guy blatantly disrespect unprofessi...\n",
      "3        account review question swipe leave dozen bot ...\n",
      "4                                             cool not pay\n",
      "                               ...                        \n",
      "49995                                       good bad bunch\n",
      "49996                                        well date app\n",
      "49997                                                 good\n",
      "49998    barrel term push microtransaction invite tinde...\n",
      "49999    keep get ban not wrong say ban tinder price no...\n",
      "Name: clean_content, Length: 50000, dtype: object\n"
     ]
    }
   ],
   "source": [
    "# Cell X: Create clean_content if not present\n",
    "import spacy\n",
    "import re\n",
    "\n",
    "df = pd.read_csv('../data/tinder_reviews_randomized.csv')\n",
    "\n",
    "# Load spaCy English model (download if needed: python -m spacy download en_core_web_sm)\n",
    "nlp = spacy.load(\"en_core_web_sm\", disable=[\"ner\", \"parser\"])\n",
    "\n",
    "def clean_and_lemmatize(text):\n",
    "    text = str(text).lower()\n",
    "    text = re.sub(r'http\\S+|www\\.\\S+', '', text)\n",
    "    text = re.sub(r'<.*?>', '', text)\n",
    "    text = text.replace('!', ' _EXCLAMATION_ ').replace('?', ' _QUESTION_ ')\n",
    "    text = re.sub(r'[^a-zA-Z0-9_\\s]', '', text)\n",
    "    doc = nlp(text)\n",
    "    negations = {\"no\", \"not\", \"nor\", \"never\"}\n",
    "    tokens = [\n",
    "        token.lemma_ for token in doc\n",
    "        if (token.is_alpha or token.text in [\"_EXCLAMATION_\", \"_QUESTION_\"])\n",
    "        and (token.text not in nlp.Defaults.stop_words or token.text in negations)\n",
    "    ]\n",
    "    return ' '.join(tokens)\n",
    "\n",
    "df['clean_content'] = df['content'].astype(str).apply(clean_and_lemmatize)\n",
    "print(df['clean_content'])"
   ]
  },
  {
   "cell_type": "code",
   "execution_count": 5,
   "metadata": {},
   "outputs": [],
   "source": [
    "# Cell 1: Imports and Data Loading\n",
    "import pandas as pd\n",
    "import numpy as np\n",
    "from sklearn.model_selection import train_test_split\n",
    "\n",
    "# If not already present, create clean_content using your cleaning pipeline from EDA\n",
    "# If already present, skip this step\n",
    "\n",
    "# Cell 2: Label Creation (binary: 1=positive, 0=negative, drop neutral)\n",
    "def label_sentiment(row):\n",
    "    if row['score'] >= 4:\n",
    "        return 1\n",
    "    elif row['score'] <= 2:\n",
    "        return 0\n",
    "    else:\n",
    "        return np.nan  # Neutral\n",
    "\n",
    "df['sentiment'] = df.apply(label_sentiment, axis=1)\n",
    "df = df.dropna(subset=['sentiment', 'clean_content'])\n",
    "\n",
    "# Cell 3: Train/Test Split (stratified)\n",
    "X = df['clean_content'].values\n",
    "y = df['sentiment'].values.astype(int)\n",
    "X_train, X_test, y_train, y_test = train_test_split(\n",
    "    X, y, test_size=0.3, random_state=42, stratify=y\n",
    ")"
   ]
  },
  {
   "cell_type": "code",
   "execution_count": 6,
   "metadata": {},
   "outputs": [
    {
     "name": "stdout",
     "output_type": "stream",
     "text": [
      "Index(['reviewId', 'userName', 'userImage', 'content', 'score',\n",
      "       'thumbsUpCount', 'reviewCreatedVersion', 'at', 'replyContent',\n",
      "       'repliedAt', 'appVersion', 'star', 'clean_content', 'sentiment'],\n",
      "      dtype='object')\n"
     ]
    }
   ],
   "source": [
    "print(df.columns)"
   ]
  },
  {
   "cell_type": "code",
   "execution_count": 7,
   "metadata": {},
   "outputs": [
    {
     "name": "stderr",
     "output_type": "stream",
     "text": [
      "[nltk_data] Downloading package vader_lexicon to\n",
      "[nltk_data]     /home/akshathm/nltk_data...\n"
     ]
    },
    {
     "name": "stdout",
     "output_type": "stream",
     "text": [
      "VADER Results:\n",
      "Accuracy: 0.7544166666666666\n",
      "Precision: 0.7372183372183372\n",
      "Recall: 0.7906666666666666\n",
      "F1: 0.7630076397265783\n",
      "Confusion Matrix:\n",
      " [[4309 1691]\n",
      " [1256 4744]]\n",
      "              precision    recall  f1-score   support\n",
      "\n",
      "           0       0.77      0.72      0.75      6000\n",
      "           1       0.74      0.79      0.76      6000\n",
      "\n",
      "    accuracy                           0.75     12000\n",
      "   macro avg       0.76      0.75      0.75     12000\n",
      "weighted avg       0.76      0.75      0.75     12000\n",
      "\n"
     ]
    }
   ],
   "source": [
    "# Cell 4: VADER Sentiment Analysis\n",
    "from nltk.sentiment import SentimentIntensityAnalyzer\n",
    "import nltk\n",
    "nltk.download('vader_lexicon')\n",
    "\n",
    "sia = SentimentIntensityAnalyzer()\n",
    "\n",
    "def vader_predict(text):\n",
    "    score = sia.polarity_scores(text)['compound']\n",
    "    return 1 if score >= 0.05 else 0\n",
    "\n",
    "y_pred_vader = [vader_predict(text) for text in X_test]\n",
    "\n",
    "# Cell 5: Evaluation for VADER\n",
    "from sklearn.metrics import accuracy_score, precision_score, recall_score, f1_score, confusion_matrix, classification_report\n",
    "\n",
    "print(\"VADER Results:\")\n",
    "print(\"Accuracy:\", accuracy_score(y_test, y_pred_vader))\n",
    "print(\"Precision:\", precision_score(y_test, y_pred_vader))\n",
    "print(\"Recall:\", recall_score(y_test, y_pred_vader))\n",
    "print(\"F1:\", f1_score(y_test, y_pred_vader))\n",
    "print(\"Confusion Matrix:\\n\", confusion_matrix(y_test, y_pred_vader))\n",
    "print(classification_report(y_test, y_pred_vader))"
   ]
  },
  {
   "cell_type": "code",
   "execution_count": 8,
   "metadata": {},
   "outputs": [
    {
     "name": "stdout",
     "output_type": "stream",
     "text": [
      "Logistic Regression Results:\n",
      "Accuracy: 0.8715833333333334\n",
      "Precision: 0.8822218412480713\n",
      "Recall: 0.8576666666666667\n",
      "F1: 0.8697709794642102\n",
      "Confusion Matrix:\n",
      " [[5313  687]\n",
      " [ 854 5146]]\n",
      "              precision    recall  f1-score   support\n",
      "\n",
      "           0       0.86      0.89      0.87      6000\n",
      "           1       0.88      0.86      0.87      6000\n",
      "\n",
      "    accuracy                           0.87     12000\n",
      "   macro avg       0.87      0.87      0.87     12000\n",
      "weighted avg       0.87      0.87      0.87     12000\n",
      "\n"
     ]
    }
   ],
   "source": [
    "# Cell 6: TF-IDF + Logistic Regression\n",
    "from sklearn.feature_extraction.text import TfidfVectorizer\n",
    "from sklearn.linear_model import LogisticRegression\n",
    "\n",
    "tfidf = TfidfVectorizer(ngram_range=(1,2), max_features=20000)\n",
    "X_train_tfidf = tfidf.fit_transform(X_train)\n",
    "X_test_tfidf = tfidf.transform(X_test)\n",
    "\n",
    "clf = LogisticRegression(max_iter=200, random_state=42)\n",
    "clf.fit(X_train_tfidf, y_train)\n",
    "y_pred_lr = clf.predict(X_test_tfidf)\n",
    "\n",
    "# Cell 7: Evaluation for Logistic Regression\n",
    "print(\"Logistic Regression Results:\")\n",
    "print(\"Accuracy:\", accuracy_score(y_test, y_pred_lr))\n",
    "print(\"Precision:\", precision_score(y_test, y_pred_lr))\n",
    "print(\"Recall:\", recall_score(y_test, y_pred_lr))\n",
    "print(\"F1:\", f1_score(y_test, y_pred_lr))\n",
    "print(\"Confusion Matrix:\\n\", confusion_matrix(y_test, y_pred_lr))\n",
    "print(classification_report(y_test, y_pred_lr))"
   ]
  },
  {
   "cell_type": "code",
   "execution_count": null,
   "metadata": {},
   "outputs": [
    {
     "data": {
      "application/vnd.jupyter.widget-view+json": {
       "model_id": "78c796b7f4cd44c9a6e5e702d703f60c",
       "version_major": 2,
       "version_minor": 0
      },
      "text/plain": [
       "tokenizer_config.json:   0%|          | 0.00/48.0 [00:00<?, ?B/s]"
      ]
     },
     "metadata": {},
     "output_type": "display_data"
    },
    {
     "data": {
      "application/vnd.jupyter.widget-view+json": {
       "model_id": "2a33bd0bae134956ba8ae91a4ffa75cb",
       "version_major": 2,
       "version_minor": 0
      },
      "text/plain": [
       "config.json:   0%|          | 0.00/483 [00:00<?, ?B/s]"
      ]
     },
     "metadata": {},
     "output_type": "display_data"
    },
    {
     "data": {
      "application/vnd.jupyter.widget-view+json": {
       "model_id": "ef40b0ba5b7f4f879dde8c6736eba024",
       "version_major": 2,
       "version_minor": 0
      },
      "text/plain": [
       "vocab.txt:   0%|          | 0.00/232k [00:00<?, ?B/s]"
      ]
     },
     "metadata": {},
     "output_type": "display_data"
    },
    {
     "data": {
      "application/vnd.jupyter.widget-view+json": {
       "model_id": "4407654011e545838fc76ebee6520d67",
       "version_major": 2,
       "version_minor": 0
      },
      "text/plain": [
       "tokenizer.json:   0%|          | 0.00/466k [00:00<?, ?B/s]"
      ]
     },
     "metadata": {},
     "output_type": "display_data"
    },
    {
     "data": {
      "application/vnd.jupyter.widget-view+json": {
       "model_id": "b6b42f142c094c5ebb03664eee0aae1b",
       "version_major": 2,
       "version_minor": 0
      },
      "text/plain": [
       "Map:   0%|          | 0/28000 [00:00<?, ? examples/s]"
      ]
     },
     "metadata": {},
     "output_type": "display_data"
    },
    {
     "data": {
      "application/vnd.jupyter.widget-view+json": {
       "model_id": "2f09badae20e44e58f7ee559aceb6d94",
       "version_major": 2,
       "version_minor": 0
      },
      "text/plain": [
       "Map:   0%|          | 0/12000 [00:00<?, ? examples/s]"
      ]
     },
     "metadata": {},
     "output_type": "display_data"
    },
    {
     "data": {
      "application/vnd.jupyter.widget-view+json": {
       "model_id": "2bc6e4ce48a54875a60816a4ada6eee8",
       "version_major": 2,
       "version_minor": 0
      },
      "text/plain": [
       "model.safetensors:   0%|          | 0.00/268M [00:00<?, ?B/s]"
      ]
     },
     "metadata": {},
     "output_type": "display_data"
    }
   ],
   "source": [
    "# Cell 8: HuggingFace Transformers Setup\n",
    "import torch\n",
    "from transformers import AutoTokenizer, AutoModelForSequenceClassification, Trainer, TrainingArguments\n",
    "from datasets import Dataset\n",
    "\n",
    "# Choose model: 'distilbert-base-uncased' or 'microsoft/deberta-v3-small'\n",
    "MODEL_NAME = 'distilbert-base-uncased'\n",
    "tokenizer = AutoTokenizer.from_pretrained(MODEL_NAME)\n",
    "\n",
    "def tokenize_function(examples):\n",
    "    return tokenizer(examples['text'], padding='max_length', truncation=True, max_length=128)\n",
    "\n",
    "# Prepare HuggingFace Dataset\n",
    "train_dataset = Dataset.from_dict({'text': X_train, 'label': y_train})\n",
    "test_dataset = Dataset.from_dict({'text': X_test, 'label': y_test})\n",
    "\n",
    "train_dataset = train_dataset.map(tokenize_function, batched=True)\n",
    "test_dataset = test_dataset.map(tokenize_function, batched=True)\n",
    "\n",
    "train_dataset.set_format(type='torch', columns=['input_ids', 'attention_mask', 'label'])\n",
    "test_dataset.set_format(type='torch', columns=['input_ids', 'attention_mask', 'label'])\n",
    "\n",
    "# Cell 9: Model Training\n",
    "model = AutoModelForSequenceClassification.from_pretrained(MODEL_NAME, num_labels=2)\n",
    "\n",
    "training_args = TrainingArguments(\n",
    "    output_dir='./results',\n",
    "    num_train_epochs=2,\n",
    "    per_device_train_batch_size=16,\n",
    "    per_device_eval_batch_size=32,\n",
    "    evaluation_strategy=\"epoch\",\n",
    "    save_strategy=\"epoch\",\n",
    "    logging_dir='./logs',\n",
    "    learning_rate=2e-5,\n",
    "    load_best_model_at_end=True,\n",
    "    metric_for_best_model=\"eval_f1\",\n",
    "    report_to=\"none\",\n",
    "    fp16=True,  # Use mixed precision if GPU supports it\n",
    ")\n",
    "\n",
    "from sklearn.metrics import f1_score\n",
    "\n",
    "def compute_metrics(eval_pred):\n",
    "    logits, labels = eval_pred\n",
    "    preds = logits.argmax(axis=-1)\n",
    "    return {\n",
    "        'accuracy': (preds == labels).mean(),\n",
    "        'f1': f1_score(labels, preds),\n",
    "    }\n",
    "\n",
    "trainer = Trainer(\n",
    "    model=model,\n",
    "    args=training_args,\n",
    "    train_dataset=train_dataset,\n",
    "    eval_dataset=test_dataset,\n",
    "    compute_metrics=compute_metrics,\n",
    ")\n",
    "\n",
    "trainer.train()\n",
    "\n",
    "# Cell 10: Evaluation for Transformer\n",
    "results = trainer.evaluate()\n",
    "print(\"Transformer Results ({}):\".format(MODEL_NAME))\n",
    "print(results)"
   ]
  },
  {
   "cell_type": "code",
   "execution_count": null,
   "metadata": {},
   "outputs": [],
   "source": [
    "# Cell 11: Model Comparison Table\n",
    "import pandas as pd\n",
    "\n",
    "results_dict = {\n",
    "    'Model': ['VADER', 'Logistic Regression', 'DeBERTa-v3-small'],\n",
    "    'Accuracy': [\n",
    "        accuracy_score(y_test, y_pred_vader),\n",
    "        accuracy_score(y_test, y_pred_lr),\n",
    "        results['eval_accuracy']\n",
    "    ],\n",
    "    'F1': [\n",
    "        f1_score(y_test, y_pred_vader),\n",
    "        f1_score(y_test, y_pred_lr),\n",
    "        results['eval_f1']\n",
    "    ]\n",
    "}\n",
    "\n",
    "results_df = pd.DataFrame(results_dict)\n",
    "print(results_df)"
   ]
  }
 ],
 "metadata": {
  "kernelspec": {
   "display_name": ".venv",
   "language": "python",
   "name": "python3"
  },
  "language_info": {
   "codemirror_mode": {
    "name": "ipython",
    "version": 3
   },
   "file_extension": ".py",
   "mimetype": "text/x-python",
   "name": "python",
   "nbconvert_exporter": "python",
   "pygments_lexer": "ipython3",
   "version": "3.11.13"
  }
 },
 "nbformat": 4,
 "nbformat_minor": 2
}
